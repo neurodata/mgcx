{
 "cells": [
  {
   "cell_type": "code",
   "execution_count": 2,
   "id": "3522aa07-8839-4272-93b5-c8ed76e934e1",
   "metadata": {},
   "outputs": [
    {
     "name": "stdout",
     "output_type": "stream",
     "text": [
      "Obtaining file:///Users/j1c/git/mgcx/hyppo\n",
      "  Preparing metadata (setup.py) ... \u001b[?25ldone\n",
      "\u001b[?25hRequirement already satisfied: numpy>=1.17 in /Users/j1c/miniconda3/envs/mgcx/lib/python3.9/site-packages (from hyppo==0.3.2) (1.23.5)\n",
      "Requirement already satisfied: scipy>=1.4.0 in /Users/j1c/miniconda3/envs/mgcx/lib/python3.9/site-packages (from hyppo==0.3.2) (1.10.1)\n",
      "Requirement already satisfied: numba>=0.46 in /Users/j1c/miniconda3/envs/mgcx/lib/python3.9/site-packages (from hyppo==0.3.2) (0.56.4)\n",
      "Requirement already satisfied: scikit-learn>=0.19.1 in /Users/j1c/miniconda3/envs/mgcx/lib/python3.9/site-packages (from hyppo==0.3.2) (1.2.2)\n",
      "Requirement already satisfied: autograd>=1.3 in /Users/j1c/miniconda3/envs/mgcx/lib/python3.9/site-packages (from hyppo==0.3.2) (1.5)\n",
      "Requirement already satisfied: future>=0.15.2 in /Users/j1c/miniconda3/envs/mgcx/lib/python3.9/site-packages (from autograd>=1.3->hyppo==0.3.2) (0.18.3)\n",
      "Requirement already satisfied: llvmlite<0.40,>=0.39.0dev0 in /Users/j1c/miniconda3/envs/mgcx/lib/python3.9/site-packages (from numba>=0.46->hyppo==0.3.2) (0.39.1)\n",
      "Requirement already satisfied: setuptools in /Users/j1c/miniconda3/envs/mgcx/lib/python3.9/site-packages (from numba>=0.46->hyppo==0.3.2) (66.0.0)\n",
      "Requirement already satisfied: threadpoolctl>=2.0.0 in /Users/j1c/miniconda3/envs/mgcx/lib/python3.9/site-packages (from scikit-learn>=0.19.1->hyppo==0.3.2) (2.2.0)\n",
      "Requirement already satisfied: joblib>=1.1.1 in /Users/j1c/miniconda3/envs/mgcx/lib/python3.9/site-packages (from scikit-learn>=0.19.1->hyppo==0.3.2) (1.1.1)\n",
      "Installing collected packages: hyppo\n",
      "  Attempting uninstall: hyppo\n",
      "    Found existing installation: hyppo 0.3.2\n",
      "    Uninstalling hyppo-0.3.2:\n",
      "      Successfully uninstalled hyppo-0.3.2\n",
      "  Running setup.py develop for hyppo\n",
      "Successfully installed hyppo-0.3.2\n"
     ]
    }
   ],
   "source": [
    "!pip install -e ./hyppo"
   ]
  },
  {
   "cell_type": "code",
   "execution_count": null,
   "id": "3b289764-53f8-4385-b763-1f7880070cbe",
   "metadata": {},
   "outputs": [],
   "source": []
  }
 ],
 "metadata": {
  "kernelspec": {
   "display_name": "Python 3 (ipykernel)",
   "language": "python",
   "name": "python3"
  },
  "language_info": {
   "codemirror_mode": {
    "name": "ipython",
    "version": 3
   },
   "file_extension": ".py",
   "mimetype": "text/x-python",
   "name": "python",
   "nbconvert_exporter": "python",
   "pygments_lexer": "ipython3",
   "version": "3.9.16"
  }
 },
 "nbformat": 4,
 "nbformat_minor": 5
}
