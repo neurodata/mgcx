{
 "cells": [
  {
   "cell_type": "code",
   "execution_count": 5,
   "metadata": {},
   "outputs": [],
   "source": [
    "%matplotlib inline\n",
    "from pathlib import Path\n",
    "\n",
    "import matplotlib.pyplot as plt\n",
    "import numpy as np\n",
    "import pandas as pd\n",
    "import seaborn as sns\n",
    "from joblib import Parallel, delayed\n",
    "from scipy.io import loadmat, savemat\n",
    "\n",
    "from hyppo.time_series import HsicX\n",
    "\n",
    "# from mgcpy.benchmarks.ts_benchmarks import NonlinearDependence\n",
    "# from mgcpy.independence_tests.dcorrx import DCorrX\n",
    "# from mgcpy.independence_tests.mgcx import MGCX\n",
    "# from mgcpy.independence_tests.xcorr import BoxPierceX, LjungBoxX"
   ]
  },
  {
   "cell_type": "code",
   "execution_count": 6,
   "metadata": {},
   "outputs": [],
   "source": [
    "def _compute_power(test, X_full, Y_full, num_sims, alpha, n, replication_factor=100):\n",
    "    \"\"\"\n",
    "    Helper method estimate power of a test on a given simulation.\n",
    "\n",
    "    :param test: Test to profile, either DCorrX or MGCX.\n",
    "    :type test: TimeSeriesIndependenceTest\n",
    "\n",
    "    :param X_full: An ``[n*num_sims]`` data matrix where ``n`` is the highest sample size.\n",
    "    :type X_full: 2D ``numpy.array``\n",
    "\n",
    "    :param Y_full: An ``[n*num_sims]`` data matrix where ``n`` is the highest sample size.\n",
    "    :type Y_full: 2D ``numpy.array``\n",
    "\n",
    "    :param num_sims: number of simulation at each sample size.\n",
    "    :type num_sims: integer\n",
    "\n",
    "    :param alpha: significance level.\n",
    "    :type alpha: float\n",
    "\n",
    "    :param n: sample size.\n",
    "    :type n: integer\n",
    "\n",
    "    :return: returns the estimated power.\n",
    "    :rtype: float\n",
    "    \"\"\"\n",
    "    num_rejects = 0.0\n",
    "\n",
    "    def worker(s):\n",
    "        X = X_full[range(n), s]\n",
    "        Y = Y_full[range(n), s]\n",
    "        # if test[\"name\"] in [\"DCorr-X\", \"MGC-X\"]:\n",
    "        #     p_value, _ = test[\"object\"].p_value(\n",
    "        #         X, Y, replication_factor=replication_factor, is_fast=test[\"is_fast\"]\n",
    "        #     )\n",
    "        # else:\n",
    "        #     p_value = test[\"object\"].p_value(\n",
    "        #         X, Y, replication_factor=replication_factor\n",
    "        #     )\n",
    "        res = test[\"object\"].test(X, Y, reps=replication_factor)\n",
    "        p_value = res[1]\n",
    "\n",
    "        if p_value <= alpha:\n",
    "            return 1.0\n",
    "        return 0.0\n",
    "\n",
    "    rejects = Parallel(n_jobs=-2, verbose=0)(\n",
    "        delayed(worker)(s) for s in range(num_sims)\n",
    "    )\n",
    "    power = np.mean(rejects)\n",
    "    std = np.std(rejects)\n",
    "\n",
    "    return power, std\n",
    "\n",
    "\n",
    "def _load_power_curves(tests, process):\n",
    "    result = {}\n",
    "    for test in tests:\n",
    "        # Read in .pkl file.\n",
    "        filename = f\"./powers/{test['filename']}_powers_{process.filename}.pkl\"\n",
    "        pickle_in = open(filename, \"rb\")\n",
    "        curve = pickle.load(pickle_in)\n",
    "        pickle_in.close()\n",
    "\n",
    "        N = curve.shape[0]\n",
    "        if not result:\n",
    "            result[\"sample_sizes\"] = curve[:, 0].reshape((N, 1))\n",
    "        result[test[\"filename\"] + \"_powers\"] = curve[:, 1].reshape((N, 1))\n",
    "        result[test[\"filename\"] + \"_stds\"] = curve[:, 1].reshape((N, 1))\n",
    "    return result"
   ]
  },
  {
   "cell_type": "code",
   "execution_count": 7,
   "metadata": {},
   "outputs": [],
   "source": [
    "n = 1200\n",
    "alpha = 0.05\n",
    "num_sims = 300\n",
    "\n",
    "tests = [\n",
    "    # {\n",
    "    #     \"name\": \"DCorr-X\",\n",
    "    #     \"filename\": \"dcorrx\",\n",
    "    #     \"is_fast\": False,\n",
    "    #     \"subsample_size\": -1,\n",
    "    #     \"object\": DCorrX(max_lag=1),\n",
    "    # },\n",
    "    # {\n",
    "    #     \"name\": \"LjungX\",\n",
    "    #     \"filename\": \"ljungx\",\n",
    "    #     \"object\": LjungBoxX(max_lag=1),\n",
    "    #     \"color\": \"k\",\n",
    "    # },\n",
    "    # {\n",
    "    #     \"name\": \"BoxPierceX\",\n",
    "    #     \"filename\": \"boxpiercex\",\n",
    "    #     \"object\": LjungBoxX(max_lag=1),\n",
    "    #     \"color\": \"k\",\n",
    "    # },\n",
    "    # {\n",
    "    #     \"name\": \"MGC-X\",\n",
    "    #     \"filename\": \"mgcx\",\n",
    "    #     \"is_fast\": False,\n",
    "    #     \"object\": MGCX(max_lag=1),\n",
    "    # },\n",
    "    {\n",
    "        \"name\": \"HSIC-X\",\n",
    "        \"filename\": \"hsicx\",\n",
    "        \"is_fast\": False,\n",
    "        \"object\": HsicX(max_lag=1),\n",
    "    },\n",
    "]"
   ]
  },
  {
   "cell_type": "code",
   "execution_count": 22,
   "metadata": {},
   "outputs": [
    {
     "name": "stdout",
     "output_type": "stream",
     "text": [
      "Running test: HSIC-X\n",
      "Extinction Rate: 0.200\n"
     ]
    },
    {
     "name": "stderr",
     "output_type": "stream",
     "text": [
      "[Parallel(n_jobs=-2)]: Using backend LokyBackend with 95 concurrent workers.\n",
      "[Parallel(n_jobs=-2)]: Done  10 tasks      | elapsed:  1.8min\n",
      "[Parallel(n_jobs=-2)]: Done 300 out of 300 | elapsed:  6.2min finished\n",
      "[Parallel(n_jobs=-2)]: Using backend LokyBackend with 95 concurrent workers.\n"
     ]
    },
    {
     "name": "stdout",
     "output_type": "stream",
     "text": [
      "Extinction Rate: 0.225\n"
     ]
    },
    {
     "name": "stderr",
     "output_type": "stream",
     "text": [
      "[Parallel(n_jobs=-2)]: Done  10 tasks      | elapsed:  1.7min\n",
      "[Parallel(n_jobs=-2)]: Done 300 out of 300 | elapsed:  6.1min finished\n",
      "[Parallel(n_jobs=-2)]: Using backend LokyBackend with 95 concurrent workers.\n"
     ]
    },
    {
     "name": "stdout",
     "output_type": "stream",
     "text": [
      "Extinction Rate: 0.250\n"
     ]
    },
    {
     "name": "stderr",
     "output_type": "stream",
     "text": [
      "[Parallel(n_jobs=-2)]: Done  10 tasks      | elapsed:  1.7min\n",
      "[Parallel(n_jobs=-2)]: Done 300 out of 300 | elapsed:  6.1min finished\n",
      "[Parallel(n_jobs=-2)]: Using backend LokyBackend with 95 concurrent workers.\n"
     ]
    },
    {
     "name": "stdout",
     "output_type": "stream",
     "text": [
      "Extinction Rate: 0.275\n"
     ]
    },
    {
     "name": "stderr",
     "output_type": "stream",
     "text": [
      "[Parallel(n_jobs=-2)]: Done  10 tasks      | elapsed:  1.7min\n",
      "[Parallel(n_jobs=-2)]: Done 300 out of 300 | elapsed:  6.1min finished\n",
      "[Parallel(n_jobs=-2)]: Using backend LokyBackend with 95 concurrent workers.\n"
     ]
    },
    {
     "name": "stdout",
     "output_type": "stream",
     "text": [
      "Extinction Rate: 0.300\n"
     ]
    },
    {
     "name": "stderr",
     "output_type": "stream",
     "text": [
      "[Parallel(n_jobs=-2)]: Done  10 tasks      | elapsed:  1.7min\n",
      "[Parallel(n_jobs=-2)]: Done 300 out of 300 | elapsed:  6.1min finished\n",
      "[Parallel(n_jobs=-2)]: Using backend LokyBackend with 95 concurrent workers.\n"
     ]
    },
    {
     "name": "stdout",
     "output_type": "stream",
     "text": [
      "Extinction Rate: 0.325\n"
     ]
    },
    {
     "name": "stderr",
     "output_type": "stream",
     "text": [
      "[Parallel(n_jobs=-2)]: Done  10 tasks      | elapsed:  1.7min\n",
      "[Parallel(n_jobs=-2)]: Done 300 out of 300 | elapsed:  6.1min finished\n",
      "[Parallel(n_jobs=-2)]: Using backend LokyBackend with 95 concurrent workers.\n"
     ]
    },
    {
     "name": "stdout",
     "output_type": "stream",
     "text": [
      "Extinction Rate: 0.350\n"
     ]
    },
    {
     "name": "stderr",
     "output_type": "stream",
     "text": [
      "[Parallel(n_jobs=-2)]: Done  10 tasks      | elapsed:  1.7min\n",
      "[Parallel(n_jobs=-2)]: Done 300 out of 300 | elapsed:  6.1min finished\n",
      "[Parallel(n_jobs=-2)]: Using backend LokyBackend with 95 concurrent workers.\n"
     ]
    },
    {
     "name": "stdout",
     "output_type": "stream",
     "text": [
      "Extinction Rate: 0.375\n"
     ]
    },
    {
     "name": "stderr",
     "output_type": "stream",
     "text": [
      "[Parallel(n_jobs=-2)]: Done  10 tasks      | elapsed:  1.7min\n",
      "[Parallel(n_jobs=-2)]: Done 300 out of 300 | elapsed:  6.1min finished\n",
      "[Parallel(n_jobs=-2)]: Using backend LokyBackend with 95 concurrent workers.\n"
     ]
    },
    {
     "name": "stdout",
     "output_type": "stream",
     "text": [
      "Extinction Rate: 0.400\n"
     ]
    },
    {
     "name": "stderr",
     "output_type": "stream",
     "text": [
      "[Parallel(n_jobs=-2)]: Done  10 tasks      | elapsed:  1.7min\n",
      "[Parallel(n_jobs=-2)]: Done 300 out of 300 | elapsed:  6.1min finished\n",
      "[Parallel(n_jobs=-2)]: Using backend LokyBackend with 95 concurrent workers.\n"
     ]
    },
    {
     "name": "stdout",
     "output_type": "stream",
     "text": [
      "Extinction Rate: 0.425\n"
     ]
    },
    {
     "name": "stderr",
     "output_type": "stream",
     "text": [
      "[Parallel(n_jobs=-2)]: Done  10 tasks      | elapsed:  1.7min\n",
      "[Parallel(n_jobs=-2)]: Done 300 out of 300 | elapsed:  6.1min finished\n",
      "[Parallel(n_jobs=-2)]: Using backend LokyBackend with 95 concurrent workers.\n"
     ]
    },
    {
     "name": "stdout",
     "output_type": "stream",
     "text": [
      "Extinction Rate: 0.450\n"
     ]
    },
    {
     "name": "stderr",
     "output_type": "stream",
     "text": [
      "[Parallel(n_jobs=-2)]: Done  10 tasks      | elapsed:  1.7min\n",
      "[Parallel(n_jobs=-2)]: Done 300 out of 300 | elapsed:  6.1min finished\n",
      "[Parallel(n_jobs=-2)]: Using backend LokyBackend with 95 concurrent workers.\n"
     ]
    },
    {
     "name": "stdout",
     "output_type": "stream",
     "text": [
      "Extinction Rate: 0.475\n"
     ]
    },
    {
     "name": "stderr",
     "output_type": "stream",
     "text": [
      "[Parallel(n_jobs=-2)]: Done  10 tasks      | elapsed:  1.7min\n",
      "[Parallel(n_jobs=-2)]: Done 300 out of 300 | elapsed:  6.1min finished\n",
      "[Parallel(n_jobs=-2)]: Using backend LokyBackend with 95 concurrent workers.\n"
     ]
    },
    {
     "name": "stdout",
     "output_type": "stream",
     "text": [
      "Extinction Rate: 0.500\n"
     ]
    },
    {
     "name": "stderr",
     "output_type": "stream",
     "text": [
      "[Parallel(n_jobs=-2)]: Done  10 tasks      | elapsed:  1.7min\n",
      "[Parallel(n_jobs=-2)]: Done 300 out of 300 | elapsed:  6.1min finished\n",
      "[Parallel(n_jobs=-2)]: Using backend LokyBackend with 95 concurrent workers.\n"
     ]
    },
    {
     "name": "stdout",
     "output_type": "stream",
     "text": [
      "Extinction Rate: 0.525\n"
     ]
    },
    {
     "name": "stderr",
     "output_type": "stream",
     "text": [
      "[Parallel(n_jobs=-2)]: Done  10 tasks      | elapsed:  1.7min\n",
      "[Parallel(n_jobs=-2)]: Done 300 out of 300 | elapsed:  6.1min finished\n",
      "[Parallel(n_jobs=-2)]: Using backend LokyBackend with 95 concurrent workers.\n"
     ]
    },
    {
     "name": "stdout",
     "output_type": "stream",
     "text": [
      "Extinction Rate: 0.550\n"
     ]
    },
    {
     "name": "stderr",
     "output_type": "stream",
     "text": [
      "[Parallel(n_jobs=-2)]: Done  10 tasks      | elapsed:  1.7min\n",
      "[Parallel(n_jobs=-2)]: Done 300 out of 300 | elapsed:  6.1min finished\n",
      "[Parallel(n_jobs=-2)]: Using backend LokyBackend with 95 concurrent workers.\n"
     ]
    },
    {
     "name": "stdout",
     "output_type": "stream",
     "text": [
      "Extinction Rate: 0.575\n"
     ]
    },
    {
     "name": "stderr",
     "output_type": "stream",
     "text": [
      "[Parallel(n_jobs=-2)]: Done  10 tasks      | elapsed:  1.7min\n",
      "[Parallel(n_jobs=-2)]: Done 300 out of 300 | elapsed:  6.1min finished\n",
      "[Parallel(n_jobs=-2)]: Using backend LokyBackend with 95 concurrent workers.\n"
     ]
    },
    {
     "name": "stdout",
     "output_type": "stream",
     "text": [
      "Extinction Rate: 0.600\n"
     ]
    },
    {
     "name": "stderr",
     "output_type": "stream",
     "text": [
      "[Parallel(n_jobs=-2)]: Done  10 tasks      | elapsed:  1.7min\n",
      "[Parallel(n_jobs=-2)]: Done 300 out of 300 | elapsed:  6.1min finished\n",
      "[Parallel(n_jobs=-2)]: Using backend LokyBackend with 95 concurrent workers.\n"
     ]
    },
    {
     "name": "stdout",
     "output_type": "stream",
     "text": [
      "Extinction Rate: 0.625\n"
     ]
    },
    {
     "name": "stderr",
     "output_type": "stream",
     "text": [
      "[Parallel(n_jobs=-2)]: Done  10 tasks      | elapsed:  1.7min\n",
      "[Parallel(n_jobs=-2)]: Done 300 out of 300 | elapsed:  6.1min finished\n",
      "[Parallel(n_jobs=-2)]: Using backend LokyBackend with 95 concurrent workers.\n"
     ]
    },
    {
     "name": "stdout",
     "output_type": "stream",
     "text": [
      "Extinction Rate: 0.650\n"
     ]
    },
    {
     "name": "stderr",
     "output_type": "stream",
     "text": [
      "[Parallel(n_jobs=-2)]: Done  10 tasks      | elapsed:  1.7min\n",
      "[Parallel(n_jobs=-2)]: Done 300 out of 300 | elapsed:  6.1min finished\n",
      "[Parallel(n_jobs=-2)]: Using backend LokyBackend with 95 concurrent workers.\n"
     ]
    },
    {
     "name": "stdout",
     "output_type": "stream",
     "text": [
      "Extinction Rate: 0.675\n"
     ]
    },
    {
     "name": "stderr",
     "output_type": "stream",
     "text": [
      "[Parallel(n_jobs=-2)]: Done  10 tasks      | elapsed:  1.7min\n",
      "[Parallel(n_jobs=-2)]: Done 300 out of 300 | elapsed:  6.1min finished\n",
      "[Parallel(n_jobs=-2)]: Using backend LokyBackend with 95 concurrent workers.\n"
     ]
    },
    {
     "name": "stdout",
     "output_type": "stream",
     "text": [
      "Extinction Rate: 0.700\n"
     ]
    },
    {
     "name": "stderr",
     "output_type": "stream",
     "text": [
      "[Parallel(n_jobs=-2)]: Done  10 tasks      | elapsed:  1.7min\n",
      "[Parallel(n_jobs=-2)]: Done 300 out of 300 | elapsed:  6.1min finished\n",
      "[Parallel(n_jobs=-2)]: Using backend LokyBackend with 95 concurrent workers.\n"
     ]
    },
    {
     "name": "stdout",
     "output_type": "stream",
     "text": [
      "Extinction Rate: 0.725\n"
     ]
    },
    {
     "name": "stderr",
     "output_type": "stream",
     "text": [
      "[Parallel(n_jobs=-2)]: Done  10 tasks      | elapsed:  1.7min\n",
      "[Parallel(n_jobs=-2)]: Done 300 out of 300 | elapsed:  6.1min finished\n",
      "[Parallel(n_jobs=-2)]: Using backend LokyBackend with 95 concurrent workers.\n"
     ]
    },
    {
     "name": "stdout",
     "output_type": "stream",
     "text": [
      "Extinction Rate: 0.750\n"
     ]
    },
    {
     "name": "stderr",
     "output_type": "stream",
     "text": [
      "[Parallel(n_jobs=-2)]: Done  10 tasks      | elapsed:  1.7min\n",
      "[Parallel(n_jobs=-2)]: Done 300 out of 300 | elapsed:  6.1min finished\n",
      "[Parallel(n_jobs=-2)]: Using backend LokyBackend with 95 concurrent workers.\n"
     ]
    },
    {
     "name": "stdout",
     "output_type": "stream",
     "text": [
      "Extinction Rate: 0.775\n"
     ]
    },
    {
     "name": "stderr",
     "output_type": "stream",
     "text": [
      "[Parallel(n_jobs=-2)]: Done  10 tasks      | elapsed:  1.7min\n",
      "[Parallel(n_jobs=-2)]: Done 300 out of 300 | elapsed:  6.1min finished\n",
      "[Parallel(n_jobs=-2)]: Using backend LokyBackend with 95 concurrent workers.\n"
     ]
    },
    {
     "name": "stdout",
     "output_type": "stream",
     "text": [
      "Extinction Rate: 0.800\n"
     ]
    },
    {
     "name": "stderr",
     "output_type": "stream",
     "text": [
      "[Parallel(n_jobs=-2)]: Done  10 tasks      | elapsed:  1.7min\n",
      "[Parallel(n_jobs=-2)]: Done 300 out of 300 | elapsed:  6.1min finished\n",
      "[Parallel(n_jobs=-2)]: Using backend LokyBackend with 95 concurrent workers.\n"
     ]
    },
    {
     "name": "stdout",
     "output_type": "stream",
     "text": [
      "Extinction Rate: 0.825\n"
     ]
    },
    {
     "name": "stderr",
     "output_type": "stream",
     "text": [
      "[Parallel(n_jobs=-2)]: Done  10 tasks      | elapsed:  1.7min\n",
      "[Parallel(n_jobs=-2)]: Done 300 out of 300 | elapsed:  6.1min finished\n",
      "[Parallel(n_jobs=-2)]: Using backend LokyBackend with 95 concurrent workers.\n"
     ]
    },
    {
     "name": "stdout",
     "output_type": "stream",
     "text": [
      "Extinction Rate: 0.850\n"
     ]
    },
    {
     "name": "stderr",
     "output_type": "stream",
     "text": [
      "[Parallel(n_jobs=-2)]: Done  10 tasks      | elapsed:  1.7min\n",
      "[Parallel(n_jobs=-2)]: Done 300 out of 300 | elapsed:  6.1min finished\n",
      "[Parallel(n_jobs=-2)]: Using backend LokyBackend with 95 concurrent workers.\n"
     ]
    },
    {
     "name": "stdout",
     "output_type": "stream",
     "text": [
      "Extinction Rate: 0.875\n"
     ]
    },
    {
     "name": "stderr",
     "output_type": "stream",
     "text": [
      "[Parallel(n_jobs=-2)]: Done  10 tasks      | elapsed:  1.7min\n",
      "[Parallel(n_jobs=-2)]: Done 300 out of 300 | elapsed:  6.1min finished\n",
      "[Parallel(n_jobs=-2)]: Using backend LokyBackend with 95 concurrent workers.\n"
     ]
    },
    {
     "name": "stdout",
     "output_type": "stream",
     "text": [
      "Extinction Rate: 0.900\n"
     ]
    },
    {
     "name": "stderr",
     "output_type": "stream",
     "text": [
      "[Parallel(n_jobs=-2)]: Done  10 tasks      | elapsed:  1.7min\n",
      "[Parallel(n_jobs=-2)]: Done 300 out of 300 | elapsed:  6.1min finished\n",
      "[Parallel(n_jobs=-2)]: Using backend LokyBackend with 95 concurrent workers.\n"
     ]
    },
    {
     "name": "stdout",
     "output_type": "stream",
     "text": [
      "Extinction Rate: 0.925\n"
     ]
    },
    {
     "name": "stderr",
     "output_type": "stream",
     "text": [
      "[Parallel(n_jobs=-2)]: Done  10 tasks      | elapsed:  1.7min\n",
      "[Parallel(n_jobs=-2)]: Done 300 out of 300 | elapsed:  6.1min finished\n",
      "[Parallel(n_jobs=-2)]: Using backend LokyBackend with 95 concurrent workers.\n"
     ]
    },
    {
     "name": "stdout",
     "output_type": "stream",
     "text": [
      "Extinction Rate: 0.950\n"
     ]
    },
    {
     "name": "stderr",
     "output_type": "stream",
     "text": [
      "[Parallel(n_jobs=-2)]: Done  10 tasks      | elapsed:  1.7min\n",
      "[Parallel(n_jobs=-2)]: Done 300 out of 300 | elapsed:  6.1min finished\n",
      "[Parallel(n_jobs=-2)]: Using backend LokyBackend with 95 concurrent workers.\n"
     ]
    },
    {
     "name": "stdout",
     "output_type": "stream",
     "text": [
      "Extinction Rate: 0.975\n"
     ]
    },
    {
     "name": "stderr",
     "output_type": "stream",
     "text": [
      "[Parallel(n_jobs=-2)]: Done  10 tasks      | elapsed:  1.7min\n",
      "[Parallel(n_jobs=-2)]: Done 300 out of 300 | elapsed:  6.1min finished\n"
     ]
    }
   ],
   "source": [
    "rates = [float(process.name.split(\"_\")[-2]) for process in processes]\n",
    "df = pd.DataFrame(rates, columns=[\"extinction_rate\"])\n",
    "\n",
    "for test in tests:\n",
    "    print(f\"Running test: {test['name']}\")\n",
    "    powers = np.zeros(len(processes))\n",
    "    stds = np.zeros(len(processes))\n",
    "\n",
    "    for i, process in enumerate(processes):\n",
    "        print(f\"Extinction Rate: {process.name.split('_')[-2]}\")\n",
    "        data = loadmat(process)\n",
    "        X_full = data[\"X_full\"]\n",
    "        Y_full = data[\"Y_full\"]\n",
    "\n",
    "        powers[i], stds[i] = _compute_power(test, X_full, Y_full, num_sims, alpha, n)\n",
    "\n",
    "    test_name = test[\"name\"]\n",
    "    tmp_df = pd.DataFrame(\n",
    "        np.array([powers, stds]).T, columns=[f\"{test_name}_powers\", f\"{test_name}_stds\"]\n",
    "    )\n",
    "\n",
    "    df = pd.concat([df, tmp_df], axis=1)\n",
    "\n",
    "df.to_csv(\"results.csv\", index=False)"
   ]
  },
  {
   "cell_type": "code",
   "execution_count": null,
   "metadata": {},
   "outputs": [],
   "source": [
    "df.to_csv(\"results.csv\", index=False)"
   ]
  },
  {
   "cell_type": "code",
   "execution_count": 23,
   "metadata": {},
   "outputs": [
    {
     "data": {
      "text/html": [
       "<div>\n",
       "<style scoped>\n",
       "    .dataframe tbody tr th:only-of-type {\n",
       "        vertical-align: middle;\n",
       "    }\n",
       "\n",
       "    .dataframe tbody tr th {\n",
       "        vertical-align: top;\n",
       "    }\n",
       "\n",
       "    .dataframe thead th {\n",
       "        text-align: right;\n",
       "    }\n",
       "</style>\n",
       "<table border=\"1\" class=\"dataframe\">\n",
       "  <thead>\n",
       "    <tr style=\"text-align: right;\">\n",
       "      <th></th>\n",
       "      <th>extinction_rate</th>\n",
       "      <th>HSIC-X_powers</th>\n",
       "      <th>HSIC-X_stds</th>\n",
       "    </tr>\n",
       "  </thead>\n",
       "  <tbody>\n",
       "    <tr>\n",
       "      <th>0</th>\n",
       "      <td>0.200</td>\n",
       "      <td>0.046667</td>\n",
       "      <td>0.210924</td>\n",
       "    </tr>\n",
       "    <tr>\n",
       "      <th>1</th>\n",
       "      <td>0.225</td>\n",
       "      <td>0.100000</td>\n",
       "      <td>0.300000</td>\n",
       "    </tr>\n",
       "    <tr>\n",
       "      <th>2</th>\n",
       "      <td>0.250</td>\n",
       "      <td>0.066667</td>\n",
       "      <td>0.249444</td>\n",
       "    </tr>\n",
       "    <tr>\n",
       "      <th>3</th>\n",
       "      <td>0.275</td>\n",
       "      <td>0.066667</td>\n",
       "      <td>0.249444</td>\n",
       "    </tr>\n",
       "    <tr>\n",
       "      <th>4</th>\n",
       "      <td>0.300</td>\n",
       "      <td>0.096667</td>\n",
       "      <td>0.295503</td>\n",
       "    </tr>\n",
       "    <tr>\n",
       "      <th>5</th>\n",
       "      <td>0.325</td>\n",
       "      <td>0.083333</td>\n",
       "      <td>0.276385</td>\n",
       "    </tr>\n",
       "    <tr>\n",
       "      <th>6</th>\n",
       "      <td>0.350</td>\n",
       "      <td>0.120000</td>\n",
       "      <td>0.324962</td>\n",
       "    </tr>\n",
       "    <tr>\n",
       "      <th>7</th>\n",
       "      <td>0.375</td>\n",
       "      <td>0.110000</td>\n",
       "      <td>0.312890</td>\n",
       "    </tr>\n",
       "    <tr>\n",
       "      <th>8</th>\n",
       "      <td>0.400</td>\n",
       "      <td>0.143333</td>\n",
       "      <td>0.350412</td>\n",
       "    </tr>\n",
       "    <tr>\n",
       "      <th>9</th>\n",
       "      <td>0.425</td>\n",
       "      <td>0.186667</td>\n",
       "      <td>0.389644</td>\n",
       "    </tr>\n",
       "    <tr>\n",
       "      <th>10</th>\n",
       "      <td>0.450</td>\n",
       "      <td>0.200000</td>\n",
       "      <td>0.400000</td>\n",
       "    </tr>\n",
       "    <tr>\n",
       "      <th>11</th>\n",
       "      <td>0.475</td>\n",
       "      <td>0.256667</td>\n",
       "      <td>0.436794</td>\n",
       "    </tr>\n",
       "    <tr>\n",
       "      <th>12</th>\n",
       "      <td>0.500</td>\n",
       "      <td>0.350000</td>\n",
       "      <td>0.476970</td>\n",
       "    </tr>\n",
       "    <tr>\n",
       "      <th>13</th>\n",
       "      <td>0.525</td>\n",
       "      <td>0.373333</td>\n",
       "      <td>0.483690</td>\n",
       "    </tr>\n",
       "    <tr>\n",
       "      <th>14</th>\n",
       "      <td>0.550</td>\n",
       "      <td>0.420000</td>\n",
       "      <td>0.493559</td>\n",
       "    </tr>\n",
       "    <tr>\n",
       "      <th>15</th>\n",
       "      <td>0.575</td>\n",
       "      <td>0.506667</td>\n",
       "      <td>0.499956</td>\n",
       "    </tr>\n",
       "    <tr>\n",
       "      <th>16</th>\n",
       "      <td>0.600</td>\n",
       "      <td>0.586667</td>\n",
       "      <td>0.492432</td>\n",
       "    </tr>\n",
       "    <tr>\n",
       "      <th>17</th>\n",
       "      <td>0.625</td>\n",
       "      <td>0.663333</td>\n",
       "      <td>0.472570</td>\n",
       "    </tr>\n",
       "    <tr>\n",
       "      <th>18</th>\n",
       "      <td>0.650</td>\n",
       "      <td>0.723333</td>\n",
       "      <td>0.447350</td>\n",
       "    </tr>\n",
       "    <tr>\n",
       "      <th>19</th>\n",
       "      <td>0.675</td>\n",
       "      <td>0.820000</td>\n",
       "      <td>0.384187</td>\n",
       "    </tr>\n",
       "    <tr>\n",
       "      <th>20</th>\n",
       "      <td>0.700</td>\n",
       "      <td>0.896667</td>\n",
       "      <td>0.304394</td>\n",
       "    </tr>\n",
       "    <tr>\n",
       "      <th>21</th>\n",
       "      <td>0.725</td>\n",
       "      <td>0.930000</td>\n",
       "      <td>0.255147</td>\n",
       "    </tr>\n",
       "    <tr>\n",
       "      <th>22</th>\n",
       "      <td>0.750</td>\n",
       "      <td>0.956667</td>\n",
       "      <td>0.203606</td>\n",
       "    </tr>\n",
       "    <tr>\n",
       "      <th>23</th>\n",
       "      <td>0.775</td>\n",
       "      <td>0.980000</td>\n",
       "      <td>0.140000</td>\n",
       "    </tr>\n",
       "    <tr>\n",
       "      <th>24</th>\n",
       "      <td>0.800</td>\n",
       "      <td>0.993333</td>\n",
       "      <td>0.081377</td>\n",
       "    </tr>\n",
       "    <tr>\n",
       "      <th>25</th>\n",
       "      <td>0.825</td>\n",
       "      <td>1.000000</td>\n",
       "      <td>0.000000</td>\n",
       "    </tr>\n",
       "    <tr>\n",
       "      <th>26</th>\n",
       "      <td>0.850</td>\n",
       "      <td>1.000000</td>\n",
       "      <td>0.000000</td>\n",
       "    </tr>\n",
       "    <tr>\n",
       "      <th>27</th>\n",
       "      <td>0.875</td>\n",
       "      <td>1.000000</td>\n",
       "      <td>0.000000</td>\n",
       "    </tr>\n",
       "    <tr>\n",
       "      <th>28</th>\n",
       "      <td>0.900</td>\n",
       "      <td>1.000000</td>\n",
       "      <td>0.000000</td>\n",
       "    </tr>\n",
       "    <tr>\n",
       "      <th>29</th>\n",
       "      <td>0.925</td>\n",
       "      <td>1.000000</td>\n",
       "      <td>0.000000</td>\n",
       "    </tr>\n",
       "    <tr>\n",
       "      <th>30</th>\n",
       "      <td>0.950</td>\n",
       "      <td>1.000000</td>\n",
       "      <td>0.000000</td>\n",
       "    </tr>\n",
       "    <tr>\n",
       "      <th>31</th>\n",
       "      <td>0.975</td>\n",
       "      <td>1.000000</td>\n",
       "      <td>0.000000</td>\n",
       "    </tr>\n",
       "  </tbody>\n",
       "</table>\n",
       "</div>"
      ],
      "text/plain": [
       "    extinction_rate  HSIC-X_powers  HSIC-X_stds\n",
       "0             0.200       0.046667     0.210924\n",
       "1             0.225       0.100000     0.300000\n",
       "2             0.250       0.066667     0.249444\n",
       "3             0.275       0.066667     0.249444\n",
       "4             0.300       0.096667     0.295503\n",
       "5             0.325       0.083333     0.276385\n",
       "6             0.350       0.120000     0.324962\n",
       "7             0.375       0.110000     0.312890\n",
       "8             0.400       0.143333     0.350412\n",
       "9             0.425       0.186667     0.389644\n",
       "10            0.450       0.200000     0.400000\n",
       "11            0.475       0.256667     0.436794\n",
       "12            0.500       0.350000     0.476970\n",
       "13            0.525       0.373333     0.483690\n",
       "14            0.550       0.420000     0.493559\n",
       "15            0.575       0.506667     0.499956\n",
       "16            0.600       0.586667     0.492432\n",
       "17            0.625       0.663333     0.472570\n",
       "18            0.650       0.723333     0.447350\n",
       "19            0.675       0.820000     0.384187\n",
       "20            0.700       0.896667     0.304394\n",
       "21            0.725       0.930000     0.255147\n",
       "22            0.750       0.956667     0.203606\n",
       "23            0.775       0.980000     0.140000\n",
       "24            0.800       0.993333     0.081377\n",
       "25            0.825       1.000000     0.000000\n",
       "26            0.850       1.000000     0.000000\n",
       "27            0.875       1.000000     0.000000\n",
       "28            0.900       1.000000     0.000000\n",
       "29            0.925       1.000000     0.000000\n",
       "30            0.950       1.000000     0.000000\n",
       "31            0.975       1.000000     0.000000"
      ]
     },
     "execution_count": 23,
     "metadata": {},
     "output_type": "execute_result"
    }
   ],
   "source": [
    "df"
   ]
  },
  {
   "cell_type": "code",
   "execution_count": null,
   "metadata": {},
   "outputs": [],
   "source": []
  }
 ],
 "metadata": {
  "kernelspec": {
   "display_name": "Python 3 (ipykernel)",
   "language": "python",
   "name": "python3"
  },
  "language_info": {
   "codemirror_mode": {
    "name": "ipython",
    "version": 3
   },
   "file_extension": ".py",
   "mimetype": "text/x-python",
   "name": "python",
   "nbconvert_exporter": "python",
   "pygments_lexer": "ipython3",
   "version": "3.9.16"
  }
 },
 "nbformat": 4,
 "nbformat_minor": 4
}
