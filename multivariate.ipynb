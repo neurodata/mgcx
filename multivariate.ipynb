{
 "cells": [
  {
   "cell_type": "code",
   "execution_count": 14,
   "id": "207e8f67-6369-43dc-a0f6-0858822a8725",
   "metadata": {},
   "outputs": [],
   "source": [
    "import pickle\n",
    "from itertools import product\n",
    "from pathlib import Path\n",
    "\n",
    "import numpy as np\n",
    "import pandas as pd\n",
    "from joblib import Parallel, delayed\n",
    "from scipy.io import savemat\n",
    "\n",
    "from hyppo.time_series import CCAX, MGCX, DcorrX, HsicX"
   ]
  },
  {
   "cell_type": "code",
   "execution_count": 47,
   "id": "e000f79e-2645-4766-be0b-5b28c0bb7138",
   "metadata": {},
   "outputs": [],
   "source": [
    "def generate_phi(phi=0.5, d=1):\n",
    "    out = np.eye(d)\n",
    "    denom = 1 / np.arange(1, d + 1)\n",
    "    out = out * denom * phi\n",
    "\n",
    "    return out\n",
    "\n",
    "\n",
    "def generate_var(n, d, sigma=1, lag=1, phi=0.5):\n",
    "    epsilons = np.random.normal(0, sigma, (n, d))\n",
    "    etas = np.random.normal(0, sigma, (n, d))\n",
    "\n",
    "    x = epsilons\n",
    "    y = etas\n",
    "\n",
    "    phis = generate_phi(phi, d)\n",
    "\n",
    "    for t in range(lag, n):\n",
    "        x[t] = phis @ y[t - lag] + epsilons[t]\n",
    "        y[t] = phis @ x[t - lag] + etas[t]\n",
    "\n",
    "    return x, y\n",
    "\n",
    "\n",
    "def generate_indep_var(n, d, sigma=1, lag=1, phi=0.5):\n",
    "    epsilons = np.random.normal(0, sigma, (n, d))\n",
    "    etas = np.random.normal(0, sigma, (n, d))\n",
    "\n",
    "    x = epsilons\n",
    "    y = etas\n",
    "\n",
    "    phis = generate_phi(phi, d)\n",
    "\n",
    "    for t in range(lag, n):\n",
    "        x[t] = phis @ x[t - lag] + epsilons[t]\n",
    "        y[t] = phis @ y[t - lag] + etas[t]\n",
    "\n",
    "    return x, y\n",
    "\n",
    "\n",
    "def generate_data(\n",
    "    n, d, lag, phi, fname, output_dir=\"./data/\", reps=300, generate_func=generate_var\n",
    "):\n",
    "    X_full = np.zeros((reps, n, d))\n",
    "    Y_full = np.zeros((reps, n, d))\n",
    "    for s in range(reps):\n",
    "        np.random.seed(s)\n",
    "        X_full[s], Y_full[s] = generate_func(n, d, lag=lag, phi=phi)\n",
    "\n",
    "    # Save simulated output.\n",
    "    output = {\"X\": X_full, \"Y\": Y_full}\n",
    "    p = Path(output_dir)\n",
    "    if not p.is_dir():\n",
    "        p.mkdir(parents=True)\n",
    "\n",
    "    filename = p / f\"{fname}_data.pkl\"\n",
    "    file = open(filename, \"wb\")\n",
    "    pickle.dump(output, file)\n",
    "    file.close()\n",
    "\n",
    "    # Save to MATLAB format as well.\n",
    "    savemat(p / f\"{fname}_data.mat\", {\"X_full\": X_full, \"Y_full\": Y_full})\n",
    "\n",
    "\n",
    "def run_experiment(test, n, d, reps=300, file=\"\"):\n",
    "    with open(file, \"rb\") as f:\n",
    "        dat = pickle.load(f)\n",
    "    # X = dat[\"X\"]\n",
    "    # Y = dat[\"Y\"]\n",
    "\n",
    "    pvals = []\n",
    "\n",
    "    for seed in range(reps):\n",
    "        np.random.seed(seed)\n",
    "\n",
    "        x = dat[\"X\"][seed, :n, :d]\n",
    "        y = dat[\"Y\"][seed, :n, :d]\n",
    "\n",
    "        print(x.shape, y.shape)\n",
    "        res = test.test(x, y, reps=1000, workers=1)\n",
    "        pvals.append(res[1])\n",
    "\n",
    "    rejects = np.array(pvals) <= 0.05\n",
    "\n",
    "    return np.mean(rejects), np.std(rejects)"
   ]
  },
  {
   "cell_type": "code",
   "execution_count": 52,
   "id": "96aa78a5-b90e-4b8c-8274-1edc838a232a",
   "metadata": {},
   "outputs": [],
   "source": [
    "generate_data(100, 100, 1, 0.5, \"indep_var1\", generate_func=generate_indep_var)\n",
    "generate_data(100, 100, 1, 0.5, \"linear_var1\", generate_func=generate_var)"
   ]
  },
  {
   "cell_type": "code",
   "execution_count": 57,
   "id": "0346e97b-d313-45e3-822b-8ad146bb9cc1",
   "metadata": {},
   "outputs": [],
   "source": [
    "tests = [\n",
    "    [\"dcorr\", DcorrX(max_lag=1)],\n",
    "    [\"cca\", CCAX(max_lag=1)],\n",
    "    [\"hsic\", HsicX(max_lag=1)],\n",
    "    [\"mgc\", MGCX(max_lag=1)],\n",
    "]\n",
    "\n",
    "sigma = 1\n",
    "n = 100\n",
    "ds = np.arange(0, 101, 10)\n",
    "ds[0] = 1\n",
    "lag = 1\n",
    "reps = 300\n",
    "\n",
    "args = list(product(tests, ds))"
   ]
  },
  {
   "cell_type": "code",
   "execution_count": null,
   "id": "529a3ad8-75cf-4ec1-bc74-da96c6a87ee8",
   "metadata": {},
   "outputs": [
    {
     "name": "stderr",
     "output_type": "stream",
     "text": [
      "[Parallel(n_jobs=-1)]: Using backend LokyBackend with 96 concurrent workers.\n"
     ]
    }
   ],
   "source": [
    "res = Parallel(-1, verbose=10)(\n",
    "    delayed(run_experiment)(test, n, d, reps=reps, file=\"./data/linear_var1_data.pkl\")\n",
    "    for (_, test), d in args\n",
    ")\n",
    "\n",
    "df = [[a[0][0]] + [a[1]] + [*b] for a, b in zip(args, res)]\n",
    "df = pd.DataFrame(df, columns=[\"test\", \"d\", \"power\", \"std\"])\n",
    "df.to_csv(\"./linear_var.csv\", index=False)"
   ]
  },
  {
   "cell_type": "code",
   "execution_count": null,
   "id": "73c3eea3-6672-468a-8e6f-c40b5005d988",
   "metadata": {},
   "outputs": [],
   "source": [
    "res = Parallel(-1, verbose=10)(\n",
    "    delayed(run_experiment)(test, n, d, reps=reps, file=\"./data/indep_var1_data.pkl\")\n",
    "    for (_, test), d in args\n",
    ")\n",
    "\n",
    "df = [[a[0][0]] + [a[1]] + [*b] for a, b in zip(args, res)]\n",
    "df = pd.DataFrame(df, columns=[\"test\", \"d\", \"power\", \"std\"])\n",
    "df.to_csv(\"./indep_var.csv\", index=False)"
   ]
  },
  {
   "cell_type": "code",
   "execution_count": null,
   "id": "7468dae6-a2e5-45b7-b0e7-65cc167f8878",
   "metadata": {},
   "outputs": [],
   "source": []
  }
 ],
 "metadata": {
  "kernelspec": {
   "display_name": "Python 3 (ipykernel)",
   "language": "python",
   "name": "python3"
  },
  "language_info": {
   "codemirror_mode": {
    "name": "ipython",
    "version": 3
   },
   "file_extension": ".py",
   "mimetype": "text/x-python",
   "name": "python",
   "nbconvert_exporter": "python",
   "pygments_lexer": "ipython3",
   "version": "3.9.16"
  }
 },
 "nbformat": 4,
 "nbformat_minor": 5
}
