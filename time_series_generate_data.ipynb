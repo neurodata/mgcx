{
 "cells": [
  {
   "cell_type": "code",
   "execution_count": null,
   "metadata": {},
   "outputs": [],
   "source": [
    "import pickle\n",
    "from pathlib import Path\n",
    "\n",
    "import numpy as np\n",
    "from scipy.io import savemat, loadmat\n",
    "\n",
    "from mgcpy.benchmarks.ts_benchmarks import IndependentAR1, CorrelatedAR1, Nonlinear, EconometricProcess, ExtinctGaussian"
   ]
  },
  {
   "cell_type": "code",
   "execution_count": null,
   "metadata": {},
   "outputs": [],
   "source": [
    "def _simulate_data(process, n_max, num_sims, output_dir=\"./data\"):\n",
    "    # Store simulate processes.\n",
    "    X_full = np.zeros((n_max, num_sims))\n",
    "    Y_full = np.zeros((n_max, num_sims))\n",
    "    for s in range(num_sims):\n",
    "        X_full[:, s], Y_full[:, s] = process.simulate(n_max)\n",
    "        \n",
    "    # Save simulated output.\n",
    "    output = {'X' : X_full, 'Y' : Y_full}\n",
    "    p = Path(output_dir)\n",
    "    if not p.is_dir():\n",
    "        p.mkdir(parents=True)\n",
    "\n",
    "    filename = p / f\"{process.filename}_data.pkl\"\n",
    "    file = open(filename, 'wb')\n",
    "    pickle.dump(output, file)\n",
    "    file.close()\n",
    "    \n",
    "    # Save to MATLAB format as well.\n",
    "    savemat(p / f\"{process.filename}_data.mat\", {'X_full' : X_full, 'Y_full' : Y_full})"
   ]
  },
  {
   "cell_type": "code",
   "execution_count": null,
   "metadata": {},
   "outputs": [],
   "source": [
    "processes = [\n",
    "    IndependentAR1(), \n",
    "    CorrelatedAR1(),\n",
    "    Nonlinear(), \n",
    "    EconometricProcess(shift=0.5, scale=0.1), \n",
    "    ExtinctGaussian()\n",
    "]"
   ]
  },
  {
   "cell_type": "code",
   "execution_count": null,
   "metadata": {},
   "outputs": [],
   "source": [
    "np.random.seed(1)\n",
    "for process in processes:\n",
    "    _simulate_data(process, n_max=1000, num_sims=1000)"
   ]
  },
  {
   "cell_type": "code",
   "execution_count": null,
   "metadata": {},
   "outputs": [],
   "source": [
    "#verify no infs in econometric process\n",
    "filename = \"./data/%s_data.pkl\" % (processes[3].filename)\n",
    "pickle_in = open(filename,\"rb\")\n",
    "data = pickle.load(pickle_in)\n",
    "pickle_in.close()\n",
    "X_full = data['X']\n",
    "Y_full = data['Y']\n",
    "\n",
    "np.any(np.isinf(X_full))"
   ]
  },
  {
   "cell_type": "code",
   "execution_count": null,
   "metadata": {},
   "outputs": [],
   "source": [
    "def generate_extinct_gaussians(phis, n_max, num_sims, output_dir=\"./data/extinct_rates/\"):\n",
    "    \"\"\"\n",
    "    phis = list\n",
    "    \"\"\"\n",
    "    for phi in phis:\n",
    "        process = ExtinctGaussian(extinction_rate=phi)\n",
    "\n",
    "        X_full = np.zeros((n_max, num_sims))\n",
    "        Y_full = np.zeros((n_max, num_sims))\n",
    "        for s in range(num_sims):\n",
    "            X_full[:, s], Y_full[:, s] = process.simulate(n_max)\n",
    "\n",
    "        # Save to MATLAB format as well.\n",
    "        p = Path(output_dir)\n",
    "        if not p.is_dir():\n",
    "            p.mkdir(parents=True)\n",
    "            \n",
    "        savemat(p / f'{process.filename}_phi_{\"{:.3f}\".format(phi)}_data.mat', \n",
    "                {'X_full' : X_full, 'Y_full' : Y_full})"
   ]
  },
  {
   "cell_type": "code",
   "execution_count": null,
   "metadata": {},
   "outputs": [],
   "source": [
    "phis = np.arange(.2, 1, 0.025)\n",
    "n_max = 1200\n",
    "n_sims = 1000\n",
    "\n",
    "np.random.seed(1)\n",
    "generate_extinct_gaussians(phis, n_max, n_sims)"
   ]
  },
  {
   "cell_type": "code",
   "execution_count": null,
   "metadata": {},
   "outputs": [],
   "source": [
    "def generate_varying_indep_ars(phis, n_max, num_sims, output_dir=\"./data/ars/\"):\n",
    "    \"\"\"\n",
    "    phis = list\n",
    "    \"\"\"\n",
    "    for phi in phis:\n",
    "        process = IndependentAR1()\n",
    "\n",
    "        X_full = np.zeros((n_max, num_sims))\n",
    "        Y_full = np.zeros((n_max, num_sims))\n",
    "        for s in range(num_sims):\n",
    "            X_full[:, s], Y_full[:, s] = process.simulate(n=n_max, phi=phi)\n",
    "\n",
    "        # Save to MATLAB format as well.\n",
    "        p = Path(output_dir)\n",
    "        if not p.is_dir():\n",
    "            p.mkdir(parents=True)\n",
    "            \n",
    "        savemat(p / f'{process.filename}_phi_{\"{:.3f}\".format(phi)}_data.mat', \n",
    "                {'X_full' : X_full, 'Y_full' : Y_full})"
   ]
  },
  {
   "cell_type": "code",
   "execution_count": null,
   "metadata": {},
   "outputs": [],
   "source": [
    "phis = np.arange(.1, 1, 0.05)\n",
    "n_max = 1200\n",
    "n_sims = 1000\n",
    "\n",
    "np.random.seed(1)\n",
    "generate_varying_indep_ars(phis, n_max, n_sims)"
   ]
  },
  {
   "cell_type": "code",
   "execution_count": null,
   "metadata": {},
   "outputs": [],
   "source": []
  }
 ],
 "metadata": {
  "kernelspec": {
   "display_name": "Python 3",
   "language": "python",
   "name": "python3"
  },
  "language_info": {
   "codemirror_mode": {
    "name": "ipython",
    "version": 3
   },
   "file_extension": ".py",
   "mimetype": "text/x-python",
   "name": "python",
   "nbconvert_exporter": "python",
   "pygments_lexer": "ipython3",
   "version": "3.7.5"
  }
 },
 "nbformat": 4,
 "nbformat_minor": 2
}
